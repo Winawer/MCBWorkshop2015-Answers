{
 "cells": [
  {
   "cell_type": "code",
   "execution_count": 3,
   "metadata": {
    "collapsed": false,
    "slideshow": {
     "slide_type": "skip"
    }
   },
   "outputs": [
    {
     "data": {
      "text/html": [
       "<style>\n",
       "    @font-face {\n",
       "        font-family: \"Computer Modern\";\n",
       "        src: url('http://9dbb143991406a7c655e-aa5fcb0a5a4ec34cff238a2d56ca4144.r56.cf5.rackcdn.com/cmunss.otf');\n",
       "    }\n",
       "    @font-face {\n",
       "        font-family: \"Computer Modern\";\n",
       "        font-weight: bold;\n",
       "        src: url('http://9dbb143991406a7c655e-aa5fcb0a5a4ec34cff238a2d56ca4144.r56.cf5.rackcdn.com/cmunsx.otf');\n",
       "    }\n",
       "    @font-face {\n",
       "        font-family: \"Computer Modern\";\n",
       "        font-style: oblique;\n",
       "        src: url('http://9dbb143991406a7c655e-aa5fcb0a5a4ec34cff238a2d56ca4144.r56.cf5.rackcdn.com/cmunsi.otf');\n",
       "    }\n",
       "    @font-face {\n",
       "        font-family: \"Computer Modern\";\n",
       "        font-weight: bold;\n",
       "        font-style: oblique;\n",
       "        src: url('http://9dbb143991406a7c655e-aa5fcb0a5a4ec34cff238a2d56ca4144.r56.cf5.rackcdn.com/cmunso.otf');\n",
       "    }\n",
       "\n",
       "\n",
       "    div.cell{\n",
       "        width:800px;\n",
       "        margin-left:16% !important;\n",
       "        margin-right:auto;\n",
       "    }\n",
       "\n",
       "    h1 {\n",
       "        font-family: Helvetica, serif;\n",
       "    }\n",
       "    h4{\n",
       "        margin-top:12px;\n",
       "        margin-bottom: 3px;\n",
       "       }\n",
       "    div.text_cell_render{\n",
       "        font-family: Computer Modern, \"Helvetica Neue\", Arial, Helvetica, Geneva, sans-serif;\n",
       "        line-height: 145%;\n",
       "        font-size: 130%;\n",
       "        width:800px;\n",
       "        margin-left:auto;\n",
       "        margin-right:auto;\n",
       "    }\n",
       "    .CodeMirror{\n",
       "            font-family: \"Source Code Pro\", source-code-pro,Consolas, monospace;\n",
       "    }\n",
       "    .prompt{\n",
       "        display: None;\n",
       "    }\n",
       "    .text_cell_render h5 {\n",
       "        font-weight: 300;\n",
       "        font-size: 22pt;\n",
       "        color: #4057A1;\n",
       "        font-style: italic;\n",
       "        margin-bottom: .5em;\n",
       "        margin-top: 0.5em;\n",
       "        display: block;\n",
       "    }\n",
       "    \n",
       "    .warning{\n",
       "        color: rgb( 240, 20, 20 )\n",
       "        }  \n",
       "\n",
       "\n",
       "    .text_cell_render code {\n",
       "        color: red;\n",
       "        font-family: \"Source Code Pro\", source-code-pro,Consolas, monospace;\n",
       "    }\n",
       "\n",
       "    \n",
       "</style>\n",
       "<script>\n",
       "    MathJax.Hub.Config({\n",
       "                        TeX: {\n",
       "                           extensions: [\"AMSmath.js\"]\n",
       "                           },\n",
       "                tex2jax: {\n",
       "                    inlineMath: [ ['$','$'], [\"\\\\(\",\"\\\\)\"] ],\n",
       "                    displayMath: [ ['$$','$$'], [\"\\\\[\",\"\\\\]\"] ]\n",
       "                },\n",
       "                displayAlign: 'center', // Change this to 'center' to center equations.\n",
       "                \"HTML-CSS\": {\n",
       "                    styles: {'.MathJax_Display': {\"margin\": 4}}\n",
       "                }\n",
       "        });\n",
       "</script>"
      ],
      "text/plain": [
       "<IPython.core.display.HTML object>"
      ]
     },
     "execution_count": 3,
     "metadata": {},
     "output_type": "execute_result"
    }
   ],
   "source": [
    "from IPython.core.display import HTML\n",
    "\n",
    "def css_styling():\n",
    "    styles = open(\"styles/workshop.css\", \"r\").read()\n",
    "    return HTML(styles)\n",
    "css_styling()"
   ]
  },
  {
   "cell_type": "markdown",
   "metadata": {
    "slideshow": {
     "slide_type": "skip"
    }
   },
   "source": [
    "## Goals\n",
    "\n",
    "* Introduce and explain dictionaries."
   ]
  },
  {
   "cell_type": "markdown",
   "metadata": {
    "slideshow": {
     "slide_type": "skip"
    }
   },
   "source": [
    "Lists are great, but they have a conceptual limitation:  the only way to refer to elements of the list is by a numerical index.  Let's say we have four friends and we're trying to keep track of their favourite colours:"
   ]
  },
  {
   "cell_type": "code",
   "execution_count": 4,
   "metadata": {
    "collapsed": false,
    "slideshow": {
     "slide_type": "skip"
    }
   },
   "outputs": [
    {
     "name": "stdout",
     "output_type": "stream",
     "text": [
      "Red\n"
     ]
    }
   ],
   "source": [
    "favorite_colors = ['Blue','Green','Red','Taupe']\n",
    "print favorite_colors[2]"
   ]
  },
  {
   "cell_type": "markdown",
   "metadata": {
    "slideshow": {
     "slide_type": "skip"
    }
   },
   "source": [
    "Our third friend's favorute colour is 'Red', but this is an awkward way to keep track of peoples' favourite colours.  For one thing, we need another list to remember which number goes with which person:"
   ]
  },
  {
   "cell_type": "code",
   "execution_count": 5,
   "metadata": {
    "collapsed": false,
    "slideshow": {
     "slide_type": "skip"
    }
   },
   "outputs": [
    {
     "name": "stdout",
     "output_type": "stream",
     "text": [
      "Charlie\n"
     ]
    }
   ],
   "source": [
    "friends = ['Alice','Bob','Charlie','Eve']\n",
    "print friends[2]"
   ]
  },
  {
   "cell_type": "markdown",
   "metadata": {
    "slideshow": {
     "slide_type": "skip"
    }
   },
   "source": [
    "So now we can say that the third person's name is 'Charlie' and their favourite colour is red.  But maintaining these two lists is awkward.  What if you and Charlie have a fight and are no longer friends?"
   ]
  },
  {
   "cell_type": "code",
   "execution_count": 6,
   "metadata": {
    "collapsed": false,
    "slideshow": {
     "slide_type": "skip"
    }
   },
   "outputs": [
    {
     "name": "stdout",
     "output_type": "stream",
     "text": [
      "['Alice', 'Bob', 'Eve']\n"
     ]
    }
   ],
   "source": [
    "del friends[2]\n",
    "print friends"
   ]
  },
  {
   "cell_type": "markdown",
   "metadata": {
    "slideshow": {
     "slide_type": "skip"
    }
   },
   "source": [
    "Great!  But if we forget to do the same thing to the list of colours, then we're going to make a mistake when we next look up the favourite colour of a person in the list:"
   ]
  },
  {
   "cell_type": "code",
   "execution_count": 7,
   "metadata": {
    "collapsed": false,
    "scrolled": true,
    "slideshow": {
     "slide_type": "skip"
    }
   },
   "outputs": [
    {
     "name": "stdout",
     "output_type": "stream",
     "text": [
      "Red\n"
     ]
    }
   ],
   "source": [
    "print favorite_colors[2]"
   ]
  },
  {
   "cell_type": "markdown",
   "metadata": {
    "slideshow": {
     "slide_type": "skip"
    }
   },
   "source": [
    "Oops!  Danielle's favourite colour was taupe, not red.\n",
    "\n",
    "There's an easier way to solve this problem in Python:  dictionaries.  If you done any other programming, you might know dictionaries as 'associative arrays', 'hashes', and so on.  \n",
    "\n",
    "The neat thing about dictionary is that they are a container for *pairs* of 'keys' and 'values'.  In the case of our favourite colours, we want to associate a friend's name (the *key*) with their favourite colour (the *value*).  Here's how we create a dictionary in Python:"
   ]
  },
  {
   "cell_type": "code",
   "execution_count": 8,
   "metadata": {
    "collapsed": false,
    "slideshow": {
     "slide_type": "skip"
    }
   },
   "outputs": [
    {
     "name": "stdout",
     "output_type": "stream",
     "text": [
      "{'Charlie': 'Red', 'Bob': 'Green', 'Alice': 'Blue', 'Eve': 'Taupe'}\n"
     ]
    }
   ],
   "source": [
    "favorite_colors = {'Alice':'Blue', 'Bob':'Green', 'Charlie':'Red','Eve':'Taupe'}\n",
    "print favorite_colors"
   ]
  },
  {
   "cell_type": "markdown",
   "metadata": {
    "slideshow": {
     "slide_type": "skip"
    }
   },
   "source": [
    "<div class=\"alert alert-info\">\n",
    "  The order that you entered your friends into the dictionary is probably not the same order as was printed.  That's because dictionaries are 'unordered';  their key:value pairs are not guaranteed to be store in the same order you put them in.\n",
    "</div>"
   ]
  },
  {
   "cell_type": "markdown",
   "metadata": {
    "slideshow": {
     "slide_type": "skip"
    }
   },
   "source": [
    "You can now figure out what Charlie's favorite color is by asking the dictionary:"
   ]
  },
  {
   "cell_type": "code",
   "execution_count": 13,
   "metadata": {
    "collapsed": false,
    "slideshow": {
     "slide_type": "skip"
    }
   },
   "outputs": [
    {
     "name": "stdout",
     "output_type": "stream",
     "text": [
      "Red\n"
     ]
    }
   ],
   "source": [
    "print favorite_colors['Charlie']"
   ]
  },
  {
   "cell_type": "markdown",
   "metadata": {
    "slideshow": {
     "slide_type": "skip"
    }
   },
   "source": [
    "Some other things you can do with dictionaries:"
   ]
  },
  {
   "cell_type": "code",
   "execution_count": 14,
   "metadata": {
    "collapsed": false,
    "slideshow": {
     "slide_type": "skip"
    }
   },
   "outputs": [
    {
     "name": "stdout",
     "output_type": "stream",
     "text": [
      "{'Charlie': 'Red', 'Alice': 'Blue', 'Wendy': 'Black', 'Eve': 'Taupe'}\n"
     ]
    }
   ],
   "source": [
    "favorite_colors['Wendy'] = 'Black'\n",
    "print favorite_colors"
   ]
  },
  {
   "cell_type": "code",
   "execution_count": 16,
   "metadata": {
    "collapsed": false,
    "slideshow": {
     "slide_type": "skip"
    }
   },
   "outputs": [
    {
     "ename": "KeyError",
     "evalue": "'Bob'",
     "output_type": "error",
     "traceback": [
      "\u001b[0;31m---------------------------------------------------------------------------\u001b[0m",
      "\u001b[0;31mKeyError\u001b[0m                                  Traceback (most recent call last)",
      "\u001b[0;32m<ipython-input-16-ea37262d1702>\u001b[0m in \u001b[0;36m<module>\u001b[0;34m()\u001b[0m\n\u001b[0;32m----> 1\u001b[0;31m \u001b[0;32mdel\u001b[0m \u001b[0mfavorite_colors\u001b[0m\u001b[0;34m[\u001b[0m\u001b[0;34m'Bob'\u001b[0m\u001b[0;34m]\u001b[0m\u001b[0;34m\u001b[0m\u001b[0m\n\u001b[0m\u001b[1;32m      2\u001b[0m \u001b[0;32mprint\u001b[0m \u001b[0mfavorite_colors\u001b[0m\u001b[0;34m\u001b[0m\u001b[0m\n",
      "\u001b[0;31mKeyError\u001b[0m: 'Bob'"
     ]
    }
   ],
   "source": [
    "del favorite_colors['Bob']\n",
    "print favorite_colors"
   ]
  },
  {
   "cell_type": "code",
   "execution_count": 17,
   "metadata": {
    "collapsed": false,
    "slideshow": {
     "slide_type": "skip"
    }
   },
   "outputs": [
    {
     "name": "stdout",
     "output_type": "stream",
     "text": [
      "['Charlie', 'Alice', 'Wendy', 'Eve']\n"
     ]
    }
   ],
   "source": [
    "print favorite_colors.keys()"
   ]
  },
  {
   "cell_type": "code",
   "execution_count": 18,
   "metadata": {
    "collapsed": false,
    "slideshow": {
     "slide_type": "skip"
    }
   },
   "outputs": [
    {
     "name": "stdout",
     "output_type": "stream",
     "text": [
      "['Red', 'Blue', 'Black', 'Taupe']\n"
     ]
    }
   ],
   "source": [
    "print favorite_colors.values()"
   ]
  },
  {
   "cell_type": "code",
   "execution_count": 19,
   "metadata": {
    "collapsed": false,
    "slideshow": {
     "slide_type": "skip"
    }
   },
   "outputs": [
    {
     "name": "stdout",
     "output_type": "stream",
     "text": [
      "[('Charlie', 'Red'), ('Alice', 'Blue'), ('Wendy', 'Black'), ('Eve', 'Taupe')]\n"
     ]
    }
   ],
   "source": [
    "print favorite_colors.items()\n"
   ]
  },
  {
   "cell_type": "code",
   "execution_count": 20,
   "metadata": {
    "collapsed": false,
    "slideshow": {
     "slide_type": "skip"
    }
   },
   "outputs": [
    {
     "name": "stdout",
     "output_type": "stream",
     "text": [
      "Charlie's favorite colour is Red\n",
      "Alice's favorite colour is Blue\n",
      "Wendy's favorite colour is Black\n",
      "Eve's favorite colour is Taupe\n"
     ]
    }
   ],
   "source": [
    "for key,value in favorite_colors.iteritems():\n",
    "    print \"{0}'s favorite colour is {1}\".format(key,value)"
   ]
  },
  {
   "cell_type": "markdown",
   "metadata": {
    "slideshow": {
     "slide_type": "skip"
    }
   },
   "source": [
    "This last one is a common way to iterate through a dictionary.  It also introduces a new way of printing strings, using Python's string format function.  We will not use this too much, but it is quite common and useful here because using ```print``` with several arguments separated by commas will introduce a space between them by default."
   ]
  },
  {
   "cell_type": "markdown",
   "metadata": {
    "slideshow": {
     "slide_type": "slide"
    }
   },
   "source": [
    "---\n",
    "\n",
    "#### Exercise 1\n",
    "\n",
    "Create a dictionary containing the name of at least five US states as keys and their two letter abbreviation as values (e.g. 'California':'CA').  Iterate through the dictionary and print out the abbreviations formatted as 'The abbreviation for California is CA'.\n",
    "\n",
    "#### Exercise 2\n",
    "\n",
    "In Python you can place any kind of object in a list, and many* objects can be used as dictionary keys.  In practice, one of the interesting results of this is that you can have nested lists and dictionaries:  lists of lists, lists of dictionaries, dictionaries with lists as values, and so on.\n",
    "\n",
    "    list_of_lists = [[1,2,3],[4,5,6]]\n",
    "    list_of_dictionaries = [{'Python':'is great', 'C++':'is fast'}, {'Ruby':'is fun', 'Haskell':'is weird.'}]\n",
    "    dictionary_of_lists = {'Spades':[1,2,'Jack','Queen'],'Diamonds':[3,7]}\n",
    "    \n",
    "In this exercise, create a simple database-like structure using a nested dictionary.  Extend the example above of storing information about people's favorite colors to include more information about each person.  Pick several people you know and enter several pieces of information about each one into your nested dictionary (e.g. favorite color, home town, etc.).  For bonus points, write a loop to iterate through the dictionary and print out the information about each person.  \n",
    "\n",
    "\n",
    "*Technically, only 'hashable' types can be used as dictionary keys. In practice, the most common thing new Python programmers try that fails is to use a list as a dictionary key.  [This wiki page](https://wiki.python.org/moin/DictionaryKeys) explains in great detail why that's not allowed.\n",
    "\n",
    "---"
   ]
  },
  {
   "cell_type": "code",
   "execution_count": 5,
   "metadata": {
    "collapsed": false
   },
   "outputs": [
    {
     "name": "stdout",
     "output_type": "stream",
     "text": [
      "The abbreviation for Alabama is AL\n",
      "The abbreviation for Arizona is AZ\n",
      "The abbreviation for California is CA\n",
      "The abbreviation for Alaska is AK\n",
      "The abbreviation for Colorado is CO\n"
     ]
    }
   ],
   "source": [
    "#Exercise 1\n",
    "states = {'Alabama':'AL','Alaska':'AK','Arizona':'AZ','California':'CA','Colorado':'CO'}\n",
    "\n",
    "for state,abbreviation in states.iteritems():\n",
    "    print 'The abbreviation for', state, 'is', abbreviation"
   ]
  },
  {
   "cell_type": "code",
   "execution_count": 8,
   "metadata": {
    "collapsed": false
   },
   "outputs": [
    {
     "name": "stdout",
     "output_type": "stream",
     "text": [
      "Bob's favorite color is blue and they grew up in Anchorage.\n",
      "Alice's favorite color is red and they grew up in Los Angeles.\n",
      "Carol's favorite color is green and they grew up in New York.\n"
     ]
    }
   ],
   "source": [
    "#Exercise 2\n",
    "people = {'Alice':['red','Los Angeles'],'Bob':['blue','Anchorage'],'Carol':['green','New York']}\n",
    "\n",
    "for person in people:\n",
    "    print \"{0}'s favorite color is {1} and they grew up in {2}.\".format(person,\n",
    "                                                                        people[person][0],\n",
    "                                                                        people[person][1])"
   ]
  }
 ],
 "metadata": {
  "kernelspec": {
   "display_name": "Python 2",
   "language": "python",
   "name": "python2"
  },
  "language_info": {
   "codemirror_mode": {
    "name": "ipython",
    "version": 2
   },
   "file_extension": ".py",
   "mimetype": "text/x-python",
   "name": "python",
   "nbconvert_exporter": "python",
   "pygments_lexer": "ipython2",
   "version": "2.7.9"
  }
 },
 "nbformat": 4,
 "nbformat_minor": 0
}
